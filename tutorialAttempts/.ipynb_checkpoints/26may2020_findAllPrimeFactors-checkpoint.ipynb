{
 "cells": [
  {
   "cell_type": "code",
   "execution_count": 2,
   "metadata": {},
   "outputs": [
    {
     "ename": "SyntaxError",
     "evalue": "invalid syntax (<ipython-input-2-c3aed2b06d29>, line 9)",
     "output_type": "error",
     "traceback": [
      "\u001b[0;36m  File \u001b[0;32m\"<ipython-input-2-c3aed2b06d29>\"\u001b[0;36m, line \u001b[0;32m9\u001b[0m\n\u001b[0;31m    while (divisor <= N)\u001b[0m\n\u001b[0m                        ^\u001b[0m\n\u001b[0;31mSyntaxError\u001b[0m\u001b[0;31m:\u001b[0m invalid syntax\n"
     ]
    }
   ],
   "source": [
    "#function to find all prime factors\n",
    "#takes a integer as a input\n",
    "#returns a list containing all prime factors\n",
    "\n",
    "#define function\n",
    "def get_prime_factors(N):\n",
    "    factors = list()\n",
    "    divisor = 2\n",
    "    while (divisor <= N)\n",
    "        if (N % divisor) == 0:\n",
    "            factors. append(divisor)\n",
    "            N = N/divisor\n",
    "        else:\n",
    "            divisor +=1\n",
    "    return factors"
   ]
  },
  {
   "cell_type": "code",
   "execution_count": null,
   "metadata": {},
   "outputs": [],
   "source": []
  },
  {
   "cell_type": "code",
   "execution_count": null,
   "metadata": {},
   "outputs": [],
   "source": []
  }
 ],
 "metadata": {
  "kernelspec": {
   "display_name": "Python 3",
   "language": "python",
   "name": "python3"
  },
  "language_info": {
   "codemirror_mode": {
    "name": "ipython",
    "version": 3
   },
   "file_extension": ".py",
   "mimetype": "text/x-python",
   "name": "python",
   "nbconvert_exporter": "python",
   "pygments_lexer": "ipython3",
   "version": "3.7.3"
  }
 },
 "nbformat": 4,
 "nbformat_minor": 2
}
