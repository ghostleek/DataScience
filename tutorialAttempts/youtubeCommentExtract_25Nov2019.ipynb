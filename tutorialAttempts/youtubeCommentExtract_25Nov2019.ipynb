{
 "cells": [
  {
   "cell_type": "code",
   "execution_count": 1,
   "metadata": {},
   "outputs": [],
   "source": [
    "CLIENT_SECRETS_FILE = \"client_secret.json\""
   ]
  },
  {
   "cell_type": "code",
   "execution_count": 2,
   "metadata": {},
   "outputs": [],
   "source": [
    "SCOPES = ['https://www.googleapis.com/auth/youtube.force-ssl']\n",
    "API_SERVICE_NAME = 'youtube'\n",
    "API_VERSION = 'v3'"
   ]
  },
  {
   "cell_type": "code",
   "execution_count": 3,
   "metadata": {},
   "outputs": [],
   "source": [
    "import os\n",
    "import pickle\n",
    "import google.oauth2.credentials\n",
    "import csv\n",
    " \n",
    "from googleapiclient.discovery import build\n",
    "from googleapiclient.errors import HttpError\n",
    "from google_auth_oauthlib.flow import InstalledAppFlow\n",
    "from google.auth.transport.requests import Request\n",
    " \n",
    "...\n",
    "...\n",
    " \n",
    "def get_authenticated_service():\n",
    "    credentials = None\n",
    "    if os.path.exists('token.pickle'):\n",
    "        with open('token.pickle', 'rb') as token:\n",
    "            credentials = pickle.load(token)\n",
    "    #  Check if the credentials are invalid or do not exist\n",
    "    if not credentials or not credentials.valid:\n",
    "        # Check if the credentials have expired\n",
    "        if credentials and credentials.expired and credentials.refresh_token:\n",
    "            credentials.refresh(Request())\n",
    "        else:\n",
    "            flow = InstalledAppFlow.from_client_secrets_file(\n",
    "                CLIENT_SECRETS_FILE, SCOPES)\n",
    "            credentials = flow.run_console()\n",
    " \n",
    "        # Save the credentials for the next run\n",
    "        with open('token.pickle', 'wb') as token:\n",
    "            pickle.dump(credentials, token)\n",
    " \n",
    "    return build(API_SERVICE_NAME, API_VERSION, credentials = credentials)"
   ]
  },
  {
   "cell_type": "code",
   "execution_count": 8,
   "metadata": {},
   "outputs": [],
   "source": [
    "if __name__ == '__main__':\n",
    "    #When running locally, disable OAuthlib's HTTPs verification. When\n",
    "    #running in production *do not* leave this option enabled.\n",
    "    os.environ['OAUTHLIB_INSECURE_TRANSPORT'] = '0'\n",
    "    service = get_authenticated_service()\n",
    "\n"
   ]
  },
  {
   "cell_type": "code",
   "execution_count": 9,
   "metadata": {},
   "outputs": [
    {
     "name": "stdout",
     "output_type": "stream",
     "text": [
      "Enter a keyword: Tesla cybertruck looks\n",
      "WATCH LIVE! Elon Musk presents the new Tesla Cybertruck Launch - SwvDOdBHYBw\n",
      "TESLA LIVE FULL HD - Cybertruck Unveil - 4GFYs3g7aQg\n",
      "🔴Tesla Truck Unveil Event LIVE REWIND🔴 - gEwtrXGOW_o\n",
      "Tesla Cybertruck Test Ride - AzwldZYOReI\n",
      "TESLA REVEALS CYBERTRUCK REVEAL - a0OE1MAuEa0\n"
     ]
    }
   ],
   "source": [
    "#this only returns the first page of results\n",
    "def search_videos_by_keyword(service, **kwargs):\n",
    "    results = service.search().list(**kwargs).execute()\n",
    "    for item in results['items']:\n",
    "        print('%s - %s' % (item['snippet']['title'], item['id']['videoId']))\n",
    " \n",
    " \n",
    "keyword = input('Enter a keyword: ')\n",
    "search_videos_by_keyword(service, q=keyword, part='id,snippet', eventType='completed', type='video')\n",
    " \n"
   ]
  },
  {
   "cell_type": "code",
   "execution_count": null,
   "metadata": {},
   "outputs": [],
   "source": [
    "#function to write to csv\n",
    "def write_to_csv(comments_looks):\n",
    "    with open('comments.csv', 'w') as comments_file:\n",
    "        comments_writer = csv.writer(comments_file, delimiter=',', quotechar='\"', quoting=csv.QUOTE_MINIMAL)\n",
    "        comments_writer.writerow(['Video ID', 'Title', 'Comment'])\n",
    "        for row in comments:\n",
    "            comments_writer.writerow(list(row))\n",
    "\n",
    "#get more than a page of results\n",
    "#in this case I specified 2 pages\n",
    "def get_videos(service, **kwargs):\n",
    "    final_results = []\n",
    "    results = service.search().list(**kwargs).execute()\n",
    " \n",
    "    i = 0\n",
    "    max_pages = 30\n",
    "    while results and i < max_pages:\n",
    "        final_results.extend(results['items'])\n",
    " \n",
    "        # Check if another page exists\n",
    "        if 'nextPageToken' in results:\n",
    "            kwargs['pageToken'] = results['nextPageToken']\n",
    "            results = service.search().list(**kwargs).execute()\n",
    "            i += 1\n",
    "        else:\n",
    "            break\n",
    " \n",
    "    return final_results\n",
    "\n",
    "#create a search function to get the videos I want to analyze\n",
    "keyword = input('Enter a keyword: ')\n",
    "search_videos_by_keyword(service, q=keyword, part='id,snippet', eventType='completed', type='video')\n",
    "\n",
    "#append video comments\n",
    "def get_video_comments(service, **kwargs):\n",
    "    comments = []\n",
    "    results = service.commentThreads().list(**kwargs).execute()\n",
    "\n",
    "    while results:\n",
    "        for item in results['items']:\n",
    "            comment = item['snippet']['topLevelComment']['snippet']['textDisplay']\n",
    "            comments.append(comment)\n",
    "\n",
    "            # Check if another page exists\n",
    "        if 'nextPageToken' in results:\n",
    "            kwargs['pageToken'] = results['nextPageToken']\n",
    "            results = service.commentThreads().list(**kwargs).execute()\n",
    "        else:\n",
    "            break\n",
    "\n",
    "    return comments\n",
    "\n",
    "#write to csv \n",
    "def search_videos_by_keyword(service, **kwargs):\n",
    "    results = get_videos(service, **kwargs)\n",
    "    for item in results:\n",
    "        title = item['snippet']['title']\n",
    "        video_id = item['id']['videoId']\n",
    "        comments = get_video_comments(service, part='snippet', videoId=video_id, textFormat='plainText')\n",
    "        final_result.extend([(video_id, title, comment) for comment in comments]) \n",
    "        write_to_csv(comments_looks)\n",
    "        #print(comments)\n",
    "        #ran print previously to ensure that this works"
   ]
  },
  {
   "cell_type": "code",
   "execution_count": 32,
   "metadata": {},
   "outputs": [],
   "source": [
    "\n",
    " "
   ]
  }
 ],
 "metadata": {
  "kernelspec": {
   "display_name": "Python 3",
   "language": "python",
   "name": "python3"
  },
  "language_info": {
   "codemirror_mode": {
    "name": "ipython",
    "version": 3
   },
   "file_extension": ".py",
   "mimetype": "text/x-python",
   "name": "python",
   "nbconvert_exporter": "python",
   "pygments_lexer": "ipython3",
   "version": "3.7.3"
  }
 },
 "nbformat": 4,
 "nbformat_minor": 2
}
